{
  "nbformat": 4,
  "nbformat_minor": 0,
  "metadata": {
    "anaconda-cloud": {},
    "kernelspec": {
      "display_name": "Python [default]",
      "language": "python",
      "name": "python3"
    },
    "language_info": {
      "codemirror_mode": {
        "name": "ipython",
        "version": 3
      },
      "file_extension": ".py",
      "mimetype": "text/x-python",
      "name": "python",
      "nbconvert_exporter": "python",
      "pygments_lexer": "ipython3",
      "version": "3.5.3"
    },
    "colab": {
      "name": "mnist_mlp.ipynb",
      "provenance": [],
      "include_colab_link": true
    }
  },
  "cells": [
    {
      "cell_type": "markdown",
      "metadata": {
        "id": "view-in-github",
        "colab_type": "text"
      },
      "source": [
        "<a href=\"https://colab.research.google.com/github/ahmedmagdy512/MNIST-Digit-Classifier/blob/master/MNIST_DigitClassifier.ipynb\" target=\"_parent\"><img src=\"https://colab.research.google.com/assets/colab-badge.svg\" alt=\"Open In Colab\"/></a>"
      ]
    },
    {
      "cell_type": "markdown",
      "metadata": {
        "id": "0P_-LlaWtvyu",
        "colab_type": "text"
      },
      "source": [
        "# Artificial Intelligence Nanodegree\n",
        "\n",
        "## Convolutional Neural Networks\n",
        "\n",
        "---\n",
        "\n",
        "In this notebook, we train an MLP to classify images from the MNIST database.\n",
        "\n",
        "### 1. Load MNIST Database"
      ]
    },
    {
      "cell_type": "code",
      "metadata": {
        "id": "uGbrSv7Ftvyv",
        "colab_type": "code",
        "colab": {
          "base_uri": "https://localhost:8080/",
          "height": 85
        },
        "outputId": "f2cdcffe-2fcd-4c67-d34c-e42a32c34182"
      },
      "source": [
        "from keras.datasets import mnist\n",
        "\n",
        "# use Keras to import pre-shuffled MNIST database\n",
        "(X_train, y_train), (X_test, y_test) = mnist.load_data()\n",
        "\n",
        "print(\"The MNIST database has a training set of %d examples.\" % len(X_train))\n",
        "print(\"The MNIST database has a test set of %d examples.\" % len(X_test))"
      ],
      "execution_count": null,
      "outputs": [
        {
          "output_type": "stream",
          "text": [
            "Downloading data from https://s3.amazonaws.com/img-datasets/mnist.npz\n",
            "11493376/11490434 [==============================] - 1s 0us/step\n",
            "The MNIST database has a training set of 60000 examples.\n",
            "The MNIST database has a test set of 10000 examples.\n"
          ],
          "name": "stdout"
        }
      ]
    },
    {
      "cell_type": "markdown",
      "metadata": {
        "id": "4MmUqgkCtvyy",
        "colab_type": "text"
      },
      "source": [
        "### 2. Visualize the First Six Training Images"
      ]
    },
    {
      "cell_type": "code",
      "metadata": {
        "id": "60mtsRqJtvyz",
        "colab_type": "code",
        "colab": {
          "base_uri": "https://localhost:8080/",
          "height": 223
        },
        "outputId": "cefeeeca-bd78-46ff-cabb-3c43458f4c85"
      },
      "source": [
        "import matplotlib.pyplot as plt\n",
        "%matplotlib inline\n",
        "import numpy as np\n",
        "fig= plt.figure(figsize=(20,20))\n",
        "for i in range (6):\n",
        "  ax=fig.add_subplot(1,6,i+1)\n",
        "  ax.imshow(X_train[i],cmap='gray')\n",
        "  ax.set_title(y_train[i])"
      ],
      "execution_count": null,
      "outputs": [
        {
          "output_type": "display_data",
          "data": {
            "image/png": "[encoded data removed]",
            "text/plain": [
              "<Figure size 1440x1440 with 6 Axes>"
            ]
          },
          "metadata": {
            "tags": []
          }
        }
      ]
    },
    {
      "cell_type": "markdown",
      "metadata": {
        "id": "eachdamFtvy3",
        "colab_type": "text"
      },
      "source": [
        "### 4. Rescale the Images by Dividing Every Pixel in Every Image by 255"
      ]
    },
    {
      "cell_type": "code",
      "metadata": {
        "id": "GiBhkwbDtvy4",
        "colab_type": "code",
        "colab": {}
      },
      "source": [
        "# rescale [0,255] --> [0,1]\n",
        "X_train=X_train.astype('float32')/255\n",
        "X_test=X_test.astype('float32')/255"
      ],
      "execution_count": null,
      "outputs": []
    },
    {
      "cell_type": "markdown",
      "metadata": {
        "id": "zyayfkiRtvy5",
        "colab_type": "text"
      },
      "source": [
        "### 5. Encode Categorical Integer Labels Using a One-Hot Scheme"
      ]
    },
    {
      "cell_type": "code",
      "metadata": {
        "id": "pwL2qgAvtvy6",
        "colab_type": "code",
        "colab": {
          "base_uri": "https://localhost:8080/",
          "height": 238
        },
        "outputId": "27ab8268-ca84-4acd-b2fd-6f8976dd8456"
      },
      "source": [
        "from keras.utils import np_utils\n",
        "\n",
        "# print first ten (integer-valued) training labels\n",
        "print('Integer-valued labels:')\n",
        "print(y_train[:10])\n",
        "\n",
        "# one-hot encode the labels\n",
        "y_train = np_utils.to_categorical(y_train, 10)\n",
        "y_test = np_utils.to_categorical(y_test, 10)\n",
        "\n",
        "# print first ten (one-hot) training labels\n",
        "print('One-hot labels:')\n",
        "print(y_train[:10])"
      ],
      "execution_count": null,
      "outputs": [
        {
          "output_type": "stream",
          "text": [
            "Integer-valued labels:\n",
            "[5 0 4 1 9 2 1 3 1 4]\n",
            "One-hot labels:\n",
            "[[0. 0. 0. 0. 0. 1. 0. 0. 0. 0.]\n",
            " [1. 0. 0. 0. 0. 0. 0. 0. 0. 0.]\n",
            " [0. 0. 0. 0. 1. 0. 0. 0. 0. 0.]\n",
            " [0. 1. 0. 0. 0. 0. 0. 0. 0. 0.]\n",
            " [0. 0. 0. 0. 0. 0. 0. 0. 0. 1.]\n",
            " [0. 0. 1. 0. 0. 0. 0. 0. 0. 0.]\n",
            " [0. 1. 0. 0. 0. 0. 0. 0. 0. 0.]\n",
            " [0. 0. 0. 1. 0. 0. 0. 0. 0. 0.]\n",
            " [0. 1. 0. 0. 0. 0. 0. 0. 0. 0.]\n",
            " [0. 0. 0. 0. 1. 0. 0. 0. 0. 0.]]\n"
          ],
          "name": "stdout"
        }
      ]
    },
    {
      "cell_type": "markdown",
      "metadata": {
        "id": "D3dkifEJtvy8",
        "colab_type": "text"
      },
      "source": [
        "### 6. Define the Model Architecture"
      ]
    },
    {
      "cell_type": "code",
      "metadata": {
        "id": "r219Q7wYtvy9",
        "colab_type": "code",
        "colab": {
          "base_uri": "https://localhost:8080/",
          "height": 581
        },
        "outputId": "817da495-ff45-4227-ff81-35ab2c07e38b"
      },
      "source": [
        "from keras.models import Sequential\n",
        "from keras.layers import Dense, Dropout, Flatten\n",
        "\n",
        "# define the model\n",
        "model = Sequential()\n",
        "model.add(Flatten(input_shape=X_train.shape[1:]))\n",
        "model.add(Dense(512, activation='relu'))\n",
        "model.add(Dropout(0.2))\n",
        "model.add(Dense(512, activation='relu'))\n",
        "model.add(Dropout(0.2))\n",
        "model.add(Dense(10, activation='softmax'))\n",
        "\n",
        "# summarize the model\n",
        "model.summary()"
      ],
      "execution_count": null,
      "outputs": [
        {
          "output_type": "stream",
          "text": [
            "WARNING: Logging before flag parsing goes to stderr.\n",
            "W0904 01:27:36.399577 140578591057792 deprecation_wrapper.py:119] From /usr/local/lib/python3.6/dist-packages/keras/backend/tensorflow_backend.py:66: The name tf.get_default_graph is deprecated. Please use tf.compat.v1.get_default_graph instead.\n",
            "\n",
            "W0904 01:27:36.458742 140578591057792 deprecation_wrapper.py:119] From /usr/local/lib/python3.6/dist-packages/keras/backend/tensorflow_backend.py:541: The name tf.placeholder is deprecated. Please use tf.compat.v1.placeholder instead.\n",
            "\n",
            "W0904 01:27:36.488483 140578591057792 deprecation_wrapper.py:119] From /usr/local/lib/python3.6/dist-packages/keras/backend/tensorflow_backend.py:4432: The name tf.random_uniform is deprecated. Please use tf.random.uniform instead.\n",
            "\n",
            "W0904 01:27:36.506914 140578591057792 deprecation_wrapper.py:119] From /usr/local/lib/python3.6/dist-packages/keras/backend/tensorflow_backend.py:148: The name tf.placeholder_with_default is deprecated. Please use tf.compat.v1.placeholder_with_default instead.\n",
            "\n",
            "W0904 01:27:36.520101 140578591057792 deprecation.py:506] From /usr/local/lib/python3.6/dist-packages/keras/backend/tensorflow_backend.py:3733: calling dropout (from tensorflow.python.ops.nn_ops) with keep_prob is deprecated and will be removed in a future version.\n",
            "Instructions for updating:\n",
            "Please use `rate` instead of `keep_prob`. Rate should be set to `rate = 1 - keep_prob`.\n"
          ],
          "name": "stderr"
        },
        {
          "output_type": "stream",
          "text": [
            "Model: \"sequential_1\"\n",
            "_________________________________________________________________\n",
            "Layer (type)                 Output Shape              Param #   \n",
            "=================================================================\n",
            "flatten_1 (Flatten)          (None, 784)               0         \n",
            "_________________________________________________________________\n",
            "dense_1 (Dense)              (None, 512)               401920    \n",
            "_________________________________________________________________\n",
            "dropout_1 (Dropout)          (None, 512)               0         \n",
            "_________________________________________________________________\n",
            "dense_2 (Dense)              (None, 512)               262656    \n",
            "_________________________________________________________________\n",
            "dropout_2 (Dropout)          (None, 512)               0         \n",
            "_________________________________________________________________\n",
            "dense_3 (Dense)              (None, 10)                5130      \n",
            "=================================================================\n",
            "Total params: 669,706\n",
            "Trainable params: 669,706\n",
            "Non-trainable params: 0\n",
            "_________________________________________________________________\n"
          ],
          "name": "stdout"
        }
      ]
    },
    {
      "cell_type": "markdown",
      "metadata": {
        "id": "d5RZrSYvtvy_",
        "colab_type": "text"
      },
      "source": [
        "### 7. Compile the Model"
      ]
    },
    {
      "cell_type": "code",
      "metadata": {
        "id": "eSvvU5IWtvy_",
        "colab_type": "code",
        "colab": {
          "base_uri": "https://localhost:8080/",
          "height": 105
        },
        "outputId": "23d422ce-ead1-4b68-abda-c01935a8a6f1"
      },
      "source": [
        "# compile the model\n",
        "model.compile(loss='categorical_crossentropy', optimizer='rmsprop', \n",
        "              metrics=['accuracy'])"
      ],
      "execution_count": null,
      "outputs": [
        {
          "output_type": "stream",
          "text": [
            "W0904 01:27:41.791718 140578591057792 deprecation_wrapper.py:119] From /usr/local/lib/python3.6/dist-packages/keras/optimizers.py:793: The name tf.train.Optimizer is deprecated. Please use tf.compat.v1.train.Optimizer instead.\n",
            "\n",
            "W0904 01:27:41.823192 140578591057792 deprecation_wrapper.py:119] From /usr/local/lib/python3.6/dist-packages/keras/backend/tensorflow_backend.py:3576: The name tf.log is deprecated. Please use tf.math.log instead.\n",
            "\n"
          ],
          "name": "stderr"
        }
      ]
    },
    {
      "cell_type": "markdown",
      "metadata": {
        "id": "AR_E1UH0tvzD",
        "colab_type": "text"
      },
      "source": [
        "### 8. Calculate the Classification Accuracy on the Test Set (Before Training)"
      ]
    },
    {
      "cell_type": "code",
      "metadata": {
        "id": "8ZtMtWqptvzF",
        "colab_type": "code",
        "colab": {
          "base_uri": "https://localhost:8080/",
          "height": 34
        },
        "outputId": "bb8f6701-5b8a-4ced-99ed-15296701b8b1"
      },
      "source": [
        "# evaluate test accuracy\n",
        "score = model.evaluate(X_test, y_test, verbose=0)\n",
        "accuracy = 100*score[1]\n",
        "\n",
        "# print test accuracy\n",
        "print('Test accuracy: %.4f%%' % accuracy)"
      ],
      "execution_count": null,
      "outputs": [
        {
          "output_type": "stream",
          "text": [
            "Test accuracy: 10.2400%\n"
          ],
          "name": "stdout"
        }
      ]
    },
    {
      "cell_type": "markdown",
      "metadata": {
        "id": "tNNHrfNRtvzH",
        "colab_type": "text"
      },
      "source": [
        "### 9. Train the Model"
      ]
    },
    {
      "cell_type": "code",
      "metadata": {
        "id": "wrthTVfZtvzI",
        "colab_type": "code",
        "colab": {
          "base_uri": "https://localhost:8080/",
          "height": 785
        },
        "outputId": "cf6d368c-8684-4e8e-b9a8-46b45c9c8de9"
      },
      "source": [
        "from keras.callbacks import ModelCheckpoint\n",
        "Checkpoint=ModelCheckpoint(verbose=1,save_best_only=True,filepath='mnist.model.best.hdf5')\n",
        "hist=model.fit(X_train,y_train,batch_size=128,epochs=10,validation_split=0.2,shuffle=True,verbose=1,callbacks=[Checkpoint])"
      ],
      "execution_count": null,
      "outputs": [
        {
          "output_type": "stream",
          "text": [
            "W0904 01:27:48.842785 140578591057792 deprecation.py:323] From /usr/local/lib/python3.6/dist-packages/tensorflow/python/ops/math_grad.py:1250: add_dispatch_support.<locals>.wrapper (from tensorflow.python.ops.array_ops) is deprecated and will be removed in a future version.\n",
            "Instructions for updating:\n",
            "Use tf.where in 2.0, which has the same broadcast rule as np.where\n"
          ],
          "name": "stderr"
        },
        {
          "output_type": "stream",
          "text": [
            "Train on 48000 samples, validate on 12000 samples\n",
            "Epoch 1/10\n",
            "48000/48000 [==============================] - 8s 164us/step - loss: 0.2787 - acc: 0.9131 - val_loss: 0.1224 - val_acc: 0.9628\n",
            "\n",
            "Epoch 00001: val_loss improved from inf to 0.12242, saving model to mnist.model.best.hdf5\n",
            "Epoch 2/10\n",
            "48000/48000 [==============================] - 7s 154us/step - loss: 0.1111 - acc: 0.9661 - val_loss: 0.0931 - val_acc: 0.9722\n",
            "\n",
            "Epoch 00002: val_loss improved from 0.12242 to 0.09313, saving model to mnist.model.best.hdf5\n",
            "Epoch 3/10\n",
            "48000/48000 [==============================] - 8s 158us/step - loss: 0.0806 - acc: 0.9758 - val_loss: 0.0992 - val_acc: 0.9727\n",
            "\n",
            "Epoch 00003: val_loss did not improve from 0.09313\n",
            "Epoch 4/10\n",
            "48000/48000 [==============================] - 8s 160us/step - loss: 0.0625 - acc: 0.9810 - val_loss: 0.0883 - val_acc: 0.9763\n",
            "\n",
            "Epoch 00004: val_loss improved from 0.09313 to 0.08829, saving model to mnist.model.best.hdf5\n",
            "Epoch 5/10\n",
            "48000/48000 [==============================] - 8s 165us/step - loss: 0.0521 - acc: 0.9846 - val_loss: 0.0928 - val_acc: 0.9771\n",
            "\n",
            "Epoch 00005: val_loss did not improve from 0.08829\n",
            "Epoch 6/10\n",
            "48000/48000 [==============================] - 8s 164us/step - loss: 0.0424 - acc: 0.9872 - val_loss: 0.1015 - val_acc: 0.9753\n",
            "\n",
            "Epoch 00006: val_loss did not improve from 0.08829\n",
            "Epoch 7/10\n",
            "48000/48000 [==============================] - 8s 168us/step - loss: 0.0380 - acc: 0.9883 - val_loss: 0.0908 - val_acc: 0.9782\n",
            "\n",
            "Epoch 00007: val_loss did not improve from 0.08829\n",
            "Epoch 8/10\n",
            "48000/48000 [==============================] - 8s 169us/step - loss: 0.0341 - acc: 0.9896 - val_loss: 0.1008 - val_acc: 0.9791\n",
            "\n",
            "Epoch 00008: val_loss did not improve from 0.08829\n",
            "Epoch 9/10\n",
            "48000/48000 [==============================] - 8s 167us/step - loss: 0.0311 - acc: 0.9907 - val_loss: 0.1079 - val_acc: 0.9782\n",
            "\n",
            "Epoch 00009: val_loss did not improve from 0.08829\n",
            "Epoch 10/10\n",
            "48000/48000 [==============================] - 8s 158us/step - loss: 0.0279 - acc: 0.9918 - val_loss: 0.1050 - val_acc: 0.9787\n",
            "\n",
            "Epoch 00010: val_loss did not improve from 0.08829\n"
          ],
          "name": "stdout"
        }
      ]
    },
    {
      "cell_type": "markdown",
      "metadata": {
        "id": "nC-DmxBCtvzL",
        "colab_type": "text"
      },
      "source": [
        "### 10. Load the Model with the Best Classification Accuracy on the Validation Set"
      ]
    },
    {
      "cell_type": "code",
      "metadata": {
        "id": "-AUQUphWtvzL",
        "colab_type": "code",
        "colab": {}
      },
      "source": [
        "# load the weights that yielded the best validation accuracy\n",
        "model.load_weights('mnist.model.best.hdf5')"
      ],
      "execution_count": null,
      "outputs": []
    },
    {
      "cell_type": "markdown",
      "metadata": {
        "id": "sT6PTtgFtvzN",
        "colab_type": "text"
      },
      "source": [
        "### 11. Calculate the Classification Accuracy on the Test Set"
      ]
    },
    {
      "cell_type": "code",
      "metadata": {
        "id": "8Yx6gYeMtvzN",
        "colab_type": "code",
        "colab": {
          "base_uri": "https://localhost:8080/",
          "height": 34
        },
        "outputId": "92b614a0-0d93-4158-fe64-f09916fb75b2"
      },
      "source": [
        "# evaluate test accuracy\n",
        "score = model.evaluate(X_test, y_test, verbose=0)\n",
        "accuracy = 100*score[1]\n",
        "\n",
        "# print test accuracy\n",
        "print('Test accuracy: %.4f%%' % accuracy)"
      ],
      "execution_count": null,
      "outputs": [
        {
          "output_type": "stream",
          "text": [
            "Test accuracy: 97.7600%\n"
          ],
          "name": "stdout"
        }
      ]
    }
  ]
}